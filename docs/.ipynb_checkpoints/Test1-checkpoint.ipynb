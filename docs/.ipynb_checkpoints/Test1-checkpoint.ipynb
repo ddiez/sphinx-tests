{
 "cells": [
  {
   "cell_type": "markdown",
   "id": "080b08f7-9e7f-420f-9c47-cc2b73eb2e4a",
   "metadata": {},
   "source": [
    "Test1\n",
    "====="
   ]
  },
  {
   "cell_type": "code",
   "execution_count": 1,
   "id": "2dfc6589-f335-4085-b79f-26364d27c302",
   "metadata": {},
   "outputs": [],
   "source": [
    "import numpy as np"
   ]
  },
  {
   "cell_type": "code",
   "execution_count": 2,
   "id": "f6f20045-85d6-4c42-898c-596ac0808d85",
   "metadata": {},
   "outputs": [
    {
     "data": {
      "text/plain": [
       "1"
      ]
     },
     "execution_count": 2,
     "metadata": {},
     "output_type": "execute_result"
    }
   ],
   "source": [
    "np.sum(1)"
   ]
  },
  {
   "cell_type": "code",
   "execution_count": null,
   "id": "7818a686-df0b-4c09-95f4-9ef529135516",
   "metadata": {},
   "outputs": [],
   "source": []
  }
 ],
 "metadata": {
  "kernelspec": {
   "display_name": "Python 3 (ipykernel)",
   "language": "python",
   "name": "python3"
  },
  "language_info": {
   "codemirror_mode": {
    "name": "ipython",
    "version": 3
   },
   "file_extension": ".py",
   "mimetype": "text/x-python",
   "name": "python",
   "nbconvert_exporter": "python",
   "pygments_lexer": "ipython3",
   "version": "3.10.8"
  }
 },
 "nbformat": 4,
 "nbformat_minor": 5
}
