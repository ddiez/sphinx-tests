{
 "cells": [
  {
   "cell_type": "markdown",
   "id": "080b08f7-9e7f-420f-9c47-cc2b73eb2e4a",
   "metadata": {},
   "source": [
    "Test1\n",
    "====="
   ]
  },
  {
   "cell_type": "code",
   "execution_count": 1,
   "id": "2dfc6589-f335-4085-b79f-26364d27c302",
   "metadata": {},
   "outputs": [],
   "source": [
    "import numpy as np"
   ]
  },
  {
   "cell_type": "code",
   "execution_count": 2,
   "id": "f6f20045-85d6-4c42-898c-596ac0808d85",
   "metadata": {},
   "outputs": [
    {
     "data": {
      "text/plain": [
       "1"
      ]
     },
     "execution_count": 2,
     "metadata": {},
     "output_type": "execute_result"
    }
   ],
   "source": [
    "np.sum(1)"
   ]
  }
 ],
 "metadata": {
  "kernelspec": {
   "display_name": "singleCellHaystack",
   "language": "python",
   "name": "python3"
  },
  "language_info": {
   "codemirror_mode": {
    "name": "ipython",
    "version": 3
   },
   "file_extension": ".py",
   "mimetype": "text/x-python",
   "name": "python",
   "nbconvert_exporter": "python",
   "pygments_lexer": "ipython3",
   "version": "3.10.8 | packaged by conda-forge | (main, Nov 22 2022, 08:27:35) [Clang 14.0.6 ]"
  },
  "vscode": {
   "interpreter": {
    "hash": "2d437fa02703a5a6dda2a5b83866aef4e56d38a4af18c49dc9e7603c1b6346a7"
   }
  }
 },
 "nbformat": 4,
 "nbformat_minor": 5
}
